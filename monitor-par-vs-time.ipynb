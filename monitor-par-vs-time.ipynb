{
 "cells": [
  {
   "cell_type": "markdown",
   "id": "a4c665e1-3833-4658-8b86-8ded70cd9abb",
   "metadata": {},
   "source": [
    "# Offline monitoring\n",
    "\n",
    "This Jupyter Notebook helps to visualize the L60 data. This version enables the visualization of time evolution of given monitoring parameters. "
   ]
  },
  {
   "cell_type": "code",
   "execution_count": null,
   "id": "5e849fbc-e4dd-457d-b886-90163c1d406e",
   "metadata": {},
   "outputs": [],
   "source": [
    "%matplotlib widget\n",
    "import os, sys, json\n",
    "import matplotlib.pyplot as plt\n",
    "from matplotlib.patches import Rectangle\n",
    "from matplotlib import dates\n",
    "import pickle as pkl\n",
    "import ipywidgets as widget\n",
    "import ipydatetime\n",
    "import datetime\n",
    "import numpy as np\n",
    "from datetime import datetime, timezone\n",
    "\n",
    "def get_day_hour(date):\n",
    "    if \"T\" in date:\n",
    "        start = date.split('_')[0][:-1]\n",
    "        stop = date.split('_')[1][:-1]\n",
    "        start_day = datetime.strptime(start,\"%Y%m%dT%H%M%S\").strftime(f\"%Y/%m/%d %H:%M\")\n",
    "        stop_day = datetime.strptime(stop,\"%Y%m%dT%H%M%S\").strftime(f\"%Y/%m/%d %H:%M\")\n",
    "        time_interval = start_day+\" -> \"+stop_day\n",
    "    else:\n",
    "        time_interval = \"no time cuts\"\n",
    "    \n",
    "    return time_interval"
   ]
  },
  {
   "cell_type": "markdown",
   "id": "d47ec228-74f6-4176-a431-b621ecf75ff3",
   "metadata": {
    "tags": []
   },
   "source": [
    "## Load data\n",
    "\n",
    "First, let's load data separately for HPGe detectors (geds), SiPMs (smps) and channel 0 (that collects HW pulser and FC trigger events too)."
   ]
  },
  {
   "cell_type": "code",
   "execution_count": null,
   "id": "70490998-1b20-4405-b5ff-a2195b1b7d33",
   "metadata": {},
   "outputs": [],
   "source": [
    "exp         = 'l60'\n",
    "period      = 'p01'\n",
    "datatype    = 'phy'\n",
    "foldername  = 'out'\n",
    "\n",
    "pkl_name = exp + '-' + period\n",
    "\n",
    "pkl_files = os.listdir(f'{foldername}/pkl-files/par-vs-time/')\n",
    "pkl_files = [file for file in pkl_files if 'pkl' in file] \n",
    "\n",
    "runs = list(dict.fromkeys([file.split('-')[2] for file in pkl_files]))\n",
    "print(\"Available runs: \", runs)\n",
    "\n",
    "geds_list = [file for file in pkl_files if 'string' in file if 'pulser' not in file]      # geds: grouped by string\n",
    "spms_list = [file for file in pkl_files if 'string' not in file if 'pulser' not in file]  # spms: grouped by barrel\n",
    "ch000_list = [file for file in pkl_files if 'pulser' in file] \n",
    "\n",
    "# geds\n",
    "if geds_list != []:\n",
    "    # configuration\n",
    "    geds_map = list(dict.fromkeys([file.split('-')[-1].split('.')[0] for file in geds_list]))\n",
    "    # parameters\n",
    "    geds_par = list(dict.fromkeys([file.split('-')[-2] for file in geds_list]))\n",
    "    # date\n",
    "    geds_date = sorted(list(dict.fromkeys([file.split('-')[4] for file in geds_list])))\n",
    "    print(\"\\ngeds strings:\", geds_map)\n",
    "    print(\"geds parameters:\", geds_par)\n",
    "else: \n",
    "    geds_map = geds_par = geds_date = []\n",
    "    print(\"\\n-> NO data for geds were found\")\n",
    "\n",
    "geds_date_formatted = [get_day_hour(date) for date in geds_date]\n",
    "geds_time_option = [(key, value) for key,value in zip(geds_date_formatted, geds_date)]\n",
    "if \"no time cuts\" in geds_date_formatted:\n",
    "    geds_time_option = [('all','no_time_cuts')]\n",
    "    geds_date = ['no_time_cuts']\n",
    "print(\"geds dates:\", geds_date)\n",
    "\n",
    "# spms\n",
    "if spms_list != []:\n",
    "    # configuration\n",
    "    spms_map  = list(dict.fromkeys([file.split('-')[-1].split('.')[0] for file in spms_list]))\n",
    "    # parameters\n",
    "    spms_par  = list(dict.fromkeys([file.split('-')[-2] for file in spms_list]))\n",
    "    # dates\n",
    "    spms_date = sorted(list(dict.fromkeys([file.split('-')[4] for file in spms_list])))\n",
    "    print(\"\\nspms barrels:\", spms_map)\n",
    "    print(\"spms parameters:\", spms_par)\n",
    "    print(\"qui:\", spms_date)\n",
    "else:    \n",
    "    spms_map = spms_par = spms_date = []\n",
    "    print(\"\\n-> NO data for spms were found\")   \n",
    "\n",
    "spms_date_formatted = [get_day_hour(date) for date in spms_date]\n",
    "spms_time_option = [(key, value) for key,value in zip(spms_date_formatted, spms_date)]\n",
    "if \"no time cuts\" in spms_date_formatted:\n",
    "    spms_time_option = [('all','no_time_cuts')]\n",
    "    spms_date = ['no_time_cuts']\n",
    "print(\"spms dates:\", spms_date)\n",
    "    \n",
    "\n",
    "# ch000\n",
    "if ch000_list != []:\n",
    "    # parameters\n",
    "    ch000_par = list(dict.fromkeys([file.split('-')[-2] for file in ch000_list]))\n",
    "    # date\n",
    "    ch000_date = sorted(list(dict.fromkeys([file.split('-')[4] for file in ch000_list])))\n",
    "    print(\"\\nch000 parameters:\", ch000_par)\n",
    "else: \n",
    "    ch000_par = ch000_date = []\n",
    "    print(\"\\n-> NO data for ch000 were found\")\n",
    "\n",
    "ch000_date_formatted = [get_day_hour(date) for date in ch000_date]\n",
    "ch000_time_option = [(key, value) for key,value in zip(ch000_date_formatted, ch000_date)]\n",
    "if \"no time cuts\" in ch000_date_formatted:\n",
    "    ch000_time_option = [('all','no_time_cuts')]\n",
    "    ch000_date = ['no_time_cuts']"
   ]
  },
  {
   "cell_type": "markdown",
   "id": "7509a3f0-38e1-4f4f-9c9e-30d339512b16",
   "metadata": {},
   "source": [
    "## Interactive widgets\n",
    "Define here the interactive widgets you want to include in the final plots. "
   ]
  },
  {
   "cell_type": "code",
   "execution_count": null,
   "id": "86e0546b-55a6-4a28-8a54-673c18edd1c2",
   "metadata": {
    "tags": []
   },
   "outputs": [],
   "source": [
    "if geds_date!=[]:\n",
    "    # select widget for selecting the date (for geds) \n",
    "    geds_time_select = widget.Select(\n",
    "        options=geds_time_option,\n",
    "        value=geds_date[0],\n",
    "        description='Time:',\n",
    "        disabled=False,\n",
    "        layout={'width': 'max-content'}\n",
    ")\n",
    "if spms_date!=[]:\n",
    "    # select widget for selecting the date (for spms)\n",
    "    spms_time_select = widget.Select(\n",
    "        options=spms_time_option,\n",
    "        value=spms_date[0],\n",
    "        description='Time:',\n",
    "        disabled=False,\n",
    "        layout={'width': 'max-content'}\n",
    ")\n",
    "if ch000_date!=[]:\n",
    "    # select widget for selecting the date (for ch000)\n",
    "    ch000_time_select = widget.Select(\n",
    "        options=ch000_time_option,\n",
    "        value=ch000_date[0],\n",
    "        description='Time:',\n",
    "        disabled=False,\n",
    "        layout={'width': 'max-content'}\n",
    ")\n",
    "\n",
    "\n",
    "# tab for selecting parameters to plot (for geds)\n",
    "par_geds_buttons = widget.ToggleButtons(\n",
    "    options= geds_par,\n",
    "    description='Parameter:',\n",
    "    disabled=False,\n",
    "    button_style='',\n",
    "    tooltips=[]\n",
    ")\n",
    "# tab for selecting parameters to plot (for spms)\n",
    "par_spms_buttons = widget.ToggleButtons(\n",
    "    options= spms_par,\n",
    "    description='Parameter:',\n",
    "    disabled=False,\n",
    "    button_style='',\n",
    "    tooltips=[]\n",
    ")\n",
    "# tab for selecting parameters to plot (for ch000)\n",
    "par_ch000_buttons = widget.ToggleButtons(\n",
    "    options= ch000_par,\n",
    "    description='Parameter:',\n",
    "    disabled=False,\n",
    "    button_style='',\n",
    "    tooltips=[]\n",
    ")\n",
    "\n",
    "# par-vs-time\n",
    "geds_map_buttons = widget.ToggleButtons(\n",
    "    options= geds_map,\n",
    "    description='String #:',\n",
    "    disabled=False,\n",
    "    button_style='',\n",
    "    tooltips=[],\n",
    ") \n",
    "spms_map_buttons = widget.ToggleButtons(\n",
    "    options= spms_map, \n",
    "    description='Position:',\n",
    "    disabled=False,\n",
    "    button_style='',\n",
    "    tooltips=[],\n",
    ") \n",
    "\n",
    "# run widget\n",
    "run_button = widget.ToggleButtons(\n",
    "    options= runs,\n",
    "    description='Run:',\n",
    "    disabled=False,\n",
    "    button_style='',\n",
    "    tooltips=[]\n",
    ")"
   ]
  },
  {
   "cell_type": "markdown",
   "id": "674dc6fb-807a-4852-b626-aea9f00da0b3",
   "metadata": {
    "tags": []
   },
   "source": [
    "# Germanium detectors"
   ]
  },
  {
   "cell_type": "markdown",
   "id": "4535200e-aee8-4cdf-97d2-d54999b39eae",
   "metadata": {},
   "source": [
    "Pick the time interval you want to inspect from the left panel; run, parameter and string number to inspect can be selected on the right side of time panel."
   ]
  },
  {
   "cell_type": "code",
   "execution_count": null,
   "id": "a40c5a78-d595-45b3-bc65-48bd4897cdb7",
   "metadata": {},
   "outputs": [],
   "source": [
    "def plot_geds(time_select, parameter, string, run):\n",
    "    if time_select == 'no_time_cuts':\n",
    "        ax = pkl.load(open(f'{foldername}/pkl-files/par-vs-time/{pkl_name}-{run}-{datatype}-{parameter}-{string}.pkl', 'rb'))\n",
    "    else:\n",
    "        ax = pkl.load(open(f'{foldername}/pkl-files/par-vs-time/{pkl_name}-{run}-{datatype}-{time_select}-{parameter}-{string}.pkl', 'rb'))\n",
    "    plt.tight_layout()\n",
    "    plt.show()\n",
    "    \n",
    "if geds_par == []:\n",
    "    print(f'There are no parameters to plot!')\n",
    "    sys.exit()\n",
    "out_geds = widget.interactive_output(plot_geds, {'time_select':geds_time_select,\n",
    "                                                 'parameter'  :par_geds_buttons, \n",
    "                                                 'string'     :geds_map_buttons,\n",
    "                                                 'run': run_button})\n",
    "\n",
    "widget.VBox([widget.HBox([geds_time_select,widget.VBox([run_button, par_geds_buttons, geds_map_buttons])]),out_geds])"
   ]
  },
  {
   "cell_type": "markdown",
   "id": "d9d7b3a2-ed45-4791-8481-4ae4a9853197",
   "metadata": {
    "tags": []
   },
   "source": [
    "# SiPM detectors "
   ]
  },
  {
   "cell_type": "markdown",
   "id": "a3f12e75-b4e9-4886-a3e1-1adc320aa23d",
   "metadata": {
    "tags": []
   },
   "source": [
    "Pick the time interval you want to inspect from the left panel; run, parameter and barrel to inspect can be selected on the right side of time panel."
   ]
  },
  {
   "cell_type": "code",
   "execution_count": null,
   "id": "fb7ab381-2b87-451e-b0bb-2f8af0d20f29",
   "metadata": {},
   "outputs": [],
   "source": [
    "def plot_spms(time_select, parameter, string, run):\n",
    "    if time_select == 'no_time_cuts':\n",
    "        ax = pkl.load(open(f'{foldername}/pkl-files/par-vs-time/{pkl_name}-{run}-{datatype}-{parameter}-{string}.pkl', 'rb'))\n",
    "    else:\n",
    "        ax = pkl.load(open(f'{foldername}/pkl-files/par-vs-time/{pkl_name}-{run}-{datatype}-{time_select}-{parameter}-{string}.pkl', 'rb'))\n",
    "    plt.tight_layout()\n",
    "    plt.show()\n",
    "    \n",
    "if spms_par == []:\n",
    "    print(f'There are no parameters to plot!')\n",
    "    sys.exit()\n",
    "out_spms = widget.interactive_output(plot_spms, {'time_select':spms_time_select,\n",
    "                                                 'parameter'  :par_spms_buttons, \n",
    "                                                 'string'     :spms_map_buttons,\n",
    "                                                 'run': run_button})\n",
    "\n",
    "widget.VBox([widget.HBox([spms_time_select,widget.VBox([run_button, par_spms_buttons, spms_map_buttons])]),out_spms])"
   ]
  },
  {
   "cell_type": "code",
   "execution_count": null,
   "id": "1138b274-0b4d-4e1b-ab91-1560747bca3e",
   "metadata": {},
   "outputs": [],
   "source": [
    "def plot_spms(time_select, parameter, string, run):\n",
    "    if time_select == 'no_time_cuts':\n",
    "        ax = pkl.load(open(f'{foldername}/pkl-files/par-vs-time/{pkl_name}-{run}-{datatype}-{parameter}-{string}.pkl', 'rb'))\n",
    "    else:\n",
    "        ax = pkl.load(open(f'{foldername}/pkl-files/par-vs-time/{pkl_name}-{run}-{datatype}-{time_select}-{parameter}-{string}.pkl', 'rb'))\n",
    "    plt.show()\n",
    "    \n",
    "if spms_par == [] and spms_par_gain==[]:\n",
    "    print(f'There are no parameters to plot!')\n",
    "    sys.exit()   \n",
    "out_spms = widget.interactive_output(plot_spms, {'time_select':spms_time_select,\n",
    "                                                 'parameter'  :par_spms_buttons,\n",
    "                                                 'string'     :spms_map_buttons,\n",
    "                                                 'run': run_button})\n",
    "\n",
    "widget.VBox([widget.HBox([spms_time_select,widget.VBox([run_button, par_spms_buttons, spms_map_buttons])]),out_spms])"
   ]
  },
  {
   "cell_type": "markdown",
   "id": "b6b0292e-8852-4717-aa6d-c0ba5985278e",
   "metadata": {
    "tags": []
   },
   "source": [
    "# ch000"
   ]
  },
  {
   "cell_type": "markdown",
   "id": "2ad2ec3f-ce97-451a-81f2-71d862761b4a",
   "metadata": {},
   "source": [
    "Pick the time interval you want to inspect from the left panel; run and parameter to inspect can be selected through widgets on the right side of time panel."
   ]
  },
  {
   "cell_type": "code",
   "execution_count": null,
   "id": "a2a2c416-10a3-4a24-973a-a9c42f8a6c3d",
   "metadata": {
    "tags": []
   },
   "outputs": [],
   "source": [
    "def plot_ch000(time_select, parameter, run):\n",
    "    if time_select == 'no_time_cuts':\n",
    "        ax = pkl.load(open(f'{foldername}/pkl-files/par-vs-time/{pkl_name}-{run}-{datatype}-{parameter}-pulser.pkl', 'rb'))\n",
    "    else:\n",
    "        ax = pkl.load(open(f'{foldername}/pkl-files/par-vs-time/{pkl_name}-{run}-{datatype}-{time_select}-{parameter}-pulser.pkl', 'rb'))\n",
    "    ax.set_xlabel('day/month - time (UTC)')\n",
    "    plt.setp(ax.get_xticklabels(), visible=True)\n",
    "    plt.tight_layout()\n",
    "    plt.show()\n",
    "    \n",
    "if ch000_par == []:\n",
    "    print(f'There are no parameters to plot!')\n",
    "    sys.exit()   \n",
    "out_ch000 = widget.interactive_output(plot_ch000, {'time_select': ch000_time_select,\n",
    "                                                 'parameter'  : par_ch000_buttons,\n",
    "                                                 'run': run_button})\n",
    "\n",
    "widget.VBox([widget.HBox([ch000_time_select,widget.VBox([run_button, par_ch000_buttons])]),out_ch000])"
   ]
  }
 ],
 "metadata": {
  "kernelspec": {
   "display_name": "Python 3 (ipykernel)",
   "language": "python",
   "name": "python3"
  },
  "language_info": {
   "codemirror_mode": {
    "name": "ipython",
    "version": 3
   },
   "file_extension": ".py",
   "mimetype": "text/x-python",
   "name": "python",
   "nbconvert_exporter": "python",
   "pygments_lexer": "ipython3",
   "version": "3.9.7"
  }
 },
 "nbformat": 4,
 "nbformat_minor": 5
}
